{
 "cells": [
  {
   "cell_type": "code",
   "execution_count": 1,
   "metadata": {},
   "outputs": [],
   "source": [
    "import pandas as pd\n",
    "import numpy as np"
   ]
  },
  {
   "cell_type": "code",
   "execution_count": 2,
   "metadata": {},
   "outputs": [],
   "source": [
    "# Converts each numerical data column to z-score to standardize the data.\n",
    "def standardize_Dataframe(df):\n",
    "    result = df.copy()\n",
    "    \n",
    "    for feature_name in df.columns:\n",
    "        dtype=df[feature_name].dtypes\n",
    "        # If the data type of the column is either integer or floating point.\n",
    "        \n",
    "        if dtype=='float64' or dtype=='int64':\n",
    "            # Subtract each element by it's column's mean and divide the result by the standard deviation.\n",
    "            mean = df[feature_name].mean()\n",
    "            std = df[feature_name].std()\n",
    "            result[feature_name] = (df[feature_name] - mean) / std\n",
    "            \n",
    "    return result"
   ]
  },
  {
   "cell_type": "code",
   "execution_count": 3,
   "metadata": {},
   "outputs": [],
   "source": [
    "# Calculates the euclidian distance between two points, or individuals,\n",
    "# by taking the square root of the sum of the squared differences of each feature.\n",
    "def get_dist(obj1, obj2):\n",
    "    distances=[]\n",
    "    \n",
    "    for i in range (30):\n",
    "        distances.append(np.power(obj1[i+1]-obj2[i+1], 2))\n",
    "        \n",
    "    return np.sqrt(sum(distances))"
   ]
  },
  {
   "cell_type": "code",
   "execution_count": 4,
   "metadata": {},
   "outputs": [],
   "source": [
    "# Analyzes an array of classes and distances and returns the most common class with the lowest k distances.\n",
    "def get_best(k, arr):\n",
    "    KNN = []\n",
    "    arr.sort(key=lambda x : x[1])\n",
    "    \n",
    "    for i in range (k):\n",
    "        KNN.append(arr[i][0])\n",
    "        \n",
    "    return max(set(KNN), key = KNN.count)"
   ]
  },
  {
   "cell_type": "code",
   "execution_count": 5,
   "metadata": {},
   "outputs": [],
   "source": [
    "# Brings it all together. From a given odd integer K and a new object (individual), predicts it's class (diagnosis).\n",
    "def get_knn(k, obj):\n",
    "    distances=[]\n",
    "    \n",
    "    for i in range (len(traindf.index)):\n",
    "        distances.append([traindf.diagnosis[i], get_dist(obj, traindf.loc[i])])\n",
    "        \n",
    "    return get_best(k, distances)"
   ]
  },
  {
   "cell_type": "code",
   "execution_count": 8,
   "metadata": {
    "scrolled": false
   },
   "outputs": [
    {
     "data": {
      "text/plain": [
       "(569, 31)"
      ]
     },
     "execution_count": 8,
     "metadata": {},
     "output_type": "execute_result"
    }
   ],
   "source": [
    "# Reads the .csv file from the web\n",
    "maindf = pd.read_csv(\"https://bit.ly/2XNmkTG\")\n",
    "\n",
    "# Deletes the unnecessary 'id' column\n",
    "del maindf['id']\n",
    "\n",
    "# Standardization and subdivision of the main dataframe into test and \"train\" dataframes\n",
    "maindf = standardize_Dataframe(maindf)\n",
    "traindf = maindf.iloc[:479]\n",
    "testdf = maindf.iloc[479:].reset_index(drop=True)"
   ]
  },
  {
   "cell_type": "code",
   "execution_count": 10,
   "metadata": {},
   "outputs": [
    {
     "name": "stdout",
     "output_type": "stream",
     "text": [
      "K: 9\n",
      "\n",
      "Total:           90\n",
      "\n",
      "Correct Guesses: 86\n",
      "True Positives:  21\n",
      "True Negatives   65\n",
      "\n",
      "Mistakes:        4\n",
      "False Positives: 2\n",
      "False Negatives  2\n",
      "\n",
      "Precision:       91%\n",
      "Recall:          91%\n",
      "Accuracy:        96%\n",
      "\n"
     ]
    }
   ],
   "source": [
    "# Display and analysis of the results obtained\n",
    "Range=len(testdf.index)\n",
    "\n",
    "#From my analysis, the optimal K-value is 9 as it maximizes the recall with high accuracy and no detriment in precision\n",
    "for k in range (9,10):\n",
    "    print ('K: '+str(k)+'\\n')\n",
    "    \n",
    "    fpositives=0\n",
    "    fnegatives=0\n",
    "    tpositives=0\n",
    "    tnegatives=0\n",
    "    \n",
    "    for m in range (Range):\n",
    "        model_diagnosis = get_knn(k, testdf.loc[m])\n",
    "        actual_diagnosis = testdf.loc[m]['diagnosis']\n",
    "        #if m<15:\n",
    "        #    print (\"Previsão do Modelo: \"+model_diagnosis)\n",
    "        #    print (\"Espécie Real:       \"+actual_diagnosis+'\\n')\n",
    "        if(actual_diagnosis == model_diagnosis): \n",
    "            if(actual_diagnosis == 'B'): tnegatives = tnegatives + 1\n",
    "            else: tpositives = tpositives + 1\n",
    "        else: \n",
    "            if(model_diagnosis == 'B'): fnegatives = fnegatives + 1\n",
    "            else: fpositives = fpositives + 1\n",
    "                \n",
    "    mistakes = fpositives + fnegatives\n",
    "    correct_guesses = tnegatives + tpositives\n",
    "    total = correct_guesses + mistakes\n",
    "    accuracy = round(100*(correct_guesses/total))\n",
    "    precision = round(100*(tpositives/(tpositives + fpositives)))\n",
    "    recall = round(100*(tpositives/(tpositives + fnegatives)))\n",
    "    \n",
    "    print('Total:           '+str(total)+'\\n')\n",
    "    print('Correct Guesses: '+str(correct_guesses))\n",
    "    print('True Positives:  '+str(tpositives))\n",
    "    print('True Negatives   '+str(tnegatives)+'\\n')\n",
    "    print('Mistakes:        '+str(mistakes))\n",
    "    print('False Positives: '+str(fpositives))\n",
    "    print('False Negatives  '+str(fnegatives)+'\\n')\n",
    "    print('Precision:       '+str(precision)+'%')\n",
    "    print('Recall:          '+str(recall)+'%')\n",
    "    print('Accuracy:        '+str(accuracy)+'%\\n')"
   ]
  },
  {
   "cell_type": "code",
   "execution_count": null,
   "metadata": {},
   "outputs": [],
   "source": []
  }
 ],
 "metadata": {
  "kernelspec": {
   "display_name": "Python 3",
   "language": "python",
   "name": "python3"
  },
  "language_info": {
   "codemirror_mode": {
    "name": "ipython",
    "version": 3
   },
   "file_extension": ".py",
   "mimetype": "text/x-python",
   "name": "python",
   "nbconvert_exporter": "python",
   "pygments_lexer": "ipython3",
   "version": "3.7.3"
  }
 },
 "nbformat": 4,
 "nbformat_minor": 2
}
